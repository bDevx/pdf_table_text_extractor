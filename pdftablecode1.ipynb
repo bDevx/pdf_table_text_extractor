{
 "cells": [
  {
   "cell_type": "code",
   "execution_count": 3,
   "id": "7e7b063a-680a-4b40-906f-9bebfc35cac5",
   "metadata": {},
   "outputs": [
    {
     "name": "stdout",
     "output_type": "stream",
     "text": [
      "Defaulting to user installation because normal site-packages is not writeable\n",
      "Collecting reportlab\n",
      "  Downloading reportlab-4.2.5-py3-none-any.whl.metadata (1.5 kB)\n",
      "Requirement already satisfied: pillow>=9.0.0 in c:\\users\\bhush\\appdata\\roaming\\python\\python312\\site-packages (from reportlab) (10.4.0)\n",
      "Requirement already satisfied: chardet in c:\\programdata\\anaconda3\\lib\\site-packages (from reportlab) (4.0.0)\n",
      "Downloading reportlab-4.2.5-py3-none-any.whl (1.9 MB)\n",
      "   ---------------------------------------- 0.0/1.9 MB ? eta -:--:--\n",
      "   - -------------------------------------- 0.1/1.9 MB 2.6 MB/s eta 0:00:01\n",
      "   ------------ --------------------------- 0.6/1.9 MB 7.6 MB/s eta 0:00:01\n",
      "   -------------------------- ------------- 1.3/1.9 MB 10.2 MB/s eta 0:00:01\n",
      "   ---------------------------------------  1.9/1.9 MB 12.3 MB/s eta 0:00:01\n",
      "   ---------------------------------------- 1.9/1.9 MB 9.5 MB/s eta 0:00:00\n",
      "Installing collected packages: reportlab\n",
      "Successfully installed reportlab-4.2.5\n"
     ]
    }
   ],
   "source": [
    "!pip install reportlab"
   ]
  },
  {
   "cell_type": "code",
   "execution_count": 11,
   "id": "4f5c1825-3698-47b8-8bea-b04481867203",
   "metadata": {},
   "outputs": [],
   "source": [
    "from reportlab.lib import colors\n",
    "from reportlab.lib.pagesizes import letter\n",
    "from reportlab.platypus import SimpleDocTemplate, Table, TableStyle\n",
    "\n",
    "# Create a PDF file\n",
    "pdf = SimpleDocTemplate(\"table_example.pdf\", pagesize=letter)\n",
    "\n",
    "# Data for the table\n",
    "data = [\n",
    "    [\"Cell 1\", \"Cell 2\"],\n",
    "    [\"Cell 3\", \"Cell 4\"],\n",
    "       [\"Cell 5\"]\n",
    "]\n",
    "\n",
    "# Create a table object\n",
    "table = Table(data)\n",
    "\n",
    "# Apply styles to the table\n",
    "table.setStyle(TableStyle([\n",
    "    ('BACKGROUND', (0, 0), (-1, 0), colors.grey),\n",
    "    ('TEXTCOLOR', (0, 0), (-1, 0), colors.whitesmoke),\n",
    "    ('ALIGN', (0, 0), (-1, -1), 'CENTER'),\n",
    "    ('FONTNAME', (0, 0), (-1, 0), 'Helvetica-Bold'),\n",
    "    ('BOTTOMPADDING', (0, 0), (-1, 0), 12),\n",
    "    ('GRID', (0, 0), (-1, -1), 1, colors.red),\n",
    "]))\n",
    "\n",
    "# Build the PDF\n",
    "elements = [table]\n",
    "pdf.build(elements)\n"
   ]
  },
  {
   "cell_type": "code",
   "execution_count": null,
   "id": "9a453d8c-c8a2-488c-bcb9-16d64da35198",
   "metadata": {},
   "outputs": [],
   "source": []
  }
 ],
 "metadata": {
  "kernelspec": {
   "display_name": "Python 3 (ipykernel)",
   "language": "python",
   "name": "python3"
  },
  "language_info": {
   "codemirror_mode": {
    "name": "ipython",
    "version": 3
   },
   "file_extension": ".py",
   "mimetype": "text/x-python",
   "name": "python",
   "nbconvert_exporter": "python",
   "pygments_lexer": "ipython3",
   "version": "3.12.4"
  }
 },
 "nbformat": 4,
 "nbformat_minor": 5
}
